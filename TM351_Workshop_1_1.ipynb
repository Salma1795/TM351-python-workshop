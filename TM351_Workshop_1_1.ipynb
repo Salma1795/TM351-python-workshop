{
  "nbformat": 4,
  "nbformat_minor": 0,
  "metadata": {
    "colab": {
      "provenance": []
    },
    "kernelspec": {
      "name": "python3",
      "display_name": "Python 3"
    },
    "language_info": {
      "name": "python"
    }
  },
  "cells": [
    {
      "cell_type": "markdown",
      "source": [
        "#Introduction to Python"
      ],
      "metadata": {
        "id": "UCuADsZxM8yN"
      }
    },
    {
      "cell_type": "code",
      "execution_count": null,
      "metadata": {
        "colab": {
          "base_uri": "https://localhost:8080/"
        },
        "id": "jCxD-98mMx99",
        "outputId": "42ffa4af-8376-49e0-9483-2391e937135e"
      },
      "outputs": [
        {
          "output_type": "execute_result",
          "data": {
            "text/plain": [
              "86400"
            ]
          },
          "metadata": {},
          "execution_count": 1
        }
      ],
      "source": [
        "seconds_in_a_day = 24 * 60 * 60\n",
        "seconds_in_a_day"
      ]
    },
    {
      "cell_type": "code",
      "source": [
        "seconds_in_a_week = 7 * seconds_in_a_day\n",
        "seconds_in_a_week"
      ],
      "metadata": {
        "colab": {
          "base_uri": "https://localhost:8080/"
        },
        "id": "9-qEb4N0NWIl",
        "outputId": "bac8380c-5934-4e12-8e39-41ba322e35f0"
      },
      "execution_count": null,
      "outputs": [
        {
          "output_type": "execute_result",
          "data": {
            "text/plain": [
              "604800"
            ]
          },
          "metadata": {},
          "execution_count": 2
        }
      ]
    },
    {
      "cell_type": "code",
      "source": [
        "x = 1\n",
        "if x == 1:\n",
        "    print(\"x is 1.\")"
      ],
      "metadata": {
        "colab": {
          "base_uri": "https://localhost:8080/"
        },
        "id": "k575ydiANbDE",
        "outputId": "03ee2b8b-d3ae-46c7-dd98-05ddbc9353a4"
      },
      "execution_count": null,
      "outputs": [
        {
          "output_type": "stream",
          "name": "stdout",
          "text": [
            "x is 1.\n"
          ]
        }
      ]
    },
    {
      "cell_type": "code",
      "source": [
        "y = 2\n",
        "print(y)\n",
        "z = 3.0\n",
        "print(z)\n",
        "string = \"Hello World!\"\n",
        "print(string)"
      ],
      "metadata": {
        "colab": {
          "base_uri": "https://localhost:8080/"
        },
        "id": "ulAHN6iwNexk",
        "outputId": "15d9534a-a95a-47d2-fcdc-f460be81f3a8"
      },
      "execution_count": null,
      "outputs": [
        {
          "output_type": "stream",
          "name": "stdout",
          "text": [
            "2\n",
            "3.0\n",
            "Hello World!\n"
          ]
        }
      ]
    },
    {
      "cell_type": "code",
      "source": [
        "type(y)\n",
        "\n",
        "type(string)"
      ],
      "metadata": {
        "colab": {
          "base_uri": "https://localhost:8080/"
        },
        "id": "PqfW2dQyN_w2",
        "outputId": "01c413b0-9066-49a4-d316-a00bfe8a1b9d"
      },
      "execution_count": null,
      "outputs": [
        {
          "output_type": "execute_result",
          "data": {
            "text/plain": [
              "str"
            ]
          },
          "metadata": {},
          "execution_count": 5
        }
      ]
    },
    {
      "cell_type": "code",
      "source": [
        "type(z)"
      ],
      "metadata": {
        "colab": {
          "base_uri": "https://localhost:8080/"
        },
        "id": "uNG5J7Z1OTDk",
        "outputId": "48ca280b-d36d-4376-9063-cb7d0fe19fcc"
      },
      "execution_count": null,
      "outputs": [
        {
          "output_type": "execute_result",
          "data": {
            "text/plain": [
              "float"
            ]
          },
          "metadata": {},
          "execution_count": 6
        }
      ]
    },
    {
      "cell_type": "code",
      "source": [
        "type(string)"
      ],
      "metadata": {
        "colab": {
          "base_uri": "https://localhost:8080/"
        },
        "id": "Uj4vVi7eOWYl",
        "outputId": "b230c12c-68a6-43af-830a-ebd3e237e43c"
      },
      "execution_count": null,
      "outputs": [
        {
          "output_type": "execute_result",
          "data": {
            "text/plain": [
              "str"
            ]
          },
          "metadata": {},
          "execution_count": 7
        }
      ]
    },
    {
      "cell_type": "markdown",
      "source": [
        "###You can assign multiple variables to values in one line using the below technique"
      ],
      "metadata": {
        "id": "3lgidZBmOIk7"
      }
    },
    {
      "cell_type": "code",
      "source": [
        "a,b,c,d = 10,11.0,\"Hello World\",True\n",
        "a"
      ],
      "metadata": {
        "colab": {
          "base_uri": "https://localhost:8080/"
        },
        "id": "CzY9tVeTONlD",
        "outputId": "8e920708-1594-4687-fad0-dbcecf06b834"
      },
      "execution_count": null,
      "outputs": [
        {
          "output_type": "execute_result",
          "data": {
            "text/plain": [
              "10"
            ]
          },
          "metadata": {},
          "execution_count": 8
        }
      ]
    },
    {
      "cell_type": "markdown",
      "source": [
        "###We can use the %whos to know about the variables in memory"
      ],
      "metadata": {
        "id": "UhnNjnyKNob8"
      }
    },
    {
      "cell_type": "code",
      "source": [
        "%whos"
      ],
      "metadata": {
        "colab": {
          "base_uri": "https://localhost:8080/"
        },
        "id": "7M79QR3lNnAk",
        "outputId": "2d425ff2-de71-4d9c-d867-4f58073612d8"
      },
      "execution_count": null,
      "outputs": [
        {
          "output_type": "stream",
          "name": "stdout",
          "text": [
            "Variable            Type     Data/Info\n",
            "--------------------------------------\n",
            "a                   int      10\n",
            "b                   float    11.0\n",
            "c                   str      Hello World\n",
            "d                   bool     True\n",
            "seconds_in_a_day    int      86400\n",
            "seconds_in_a_week   int      604800\n",
            "string              str      Hello World!\n",
            "x                   int      1\n",
            "y                   int      2\n",
            "z                   float    3.0\n"
          ]
        }
      ]
    },
    {
      "cell_type": "markdown",
      "source": [
        "#Python Built-in data structures\n",
        "There are four collection data types in the Python programming language:\n",
        "\n",
        "\n",
        "*   **List** is a collection which is ordered and changeable. Allows duplicate members.\n",
        "*   **Tuple** is a collection which is ordered and unchangeable. Allows duplicate members.\n",
        "*   **Set** is a collection which is unordered and unindexed. No duplicate members.\n",
        "*   **Dictionary** is a collection which is unordered, changeable and indexed. No duplicate members."
      ],
      "metadata": {
        "id": "TZNO-3elOo76"
      }
    },
    {
      "cell_type": "code",
      "source": [],
      "metadata": {
        "id": "15nZfvuWOf3j"
      },
      "execution_count": null,
      "outputs": []
    }
  ]
}