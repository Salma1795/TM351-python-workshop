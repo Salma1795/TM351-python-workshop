{
 "cells": [
  {
   "cell_type": "markdown",
   "metadata": {
    "id": "UCuADsZxM8yN"
   },
   "source": [
    "# Introduction to Python"
   ]
  },
  {
   "cell_type": "code",
   "execution_count": 48,
   "metadata": {
    "colab": {
     "base_uri": "https://localhost:8080/"
    },
    "id": "jCxD-98mMx99",
    "outputId": "42ffa4af-8376-49e0-9483-2391e937135e"
   },
   "outputs": [
    {
     "data": {
      "text/plain": [
       "86400"
      ]
     },
     "execution_count": 48,
     "metadata": {},
     "output_type": "execute_result"
    }
   ],
   "source": [
    "seconds_in_a_day = 24 * 60 * 60\n",
    "seconds_in_a_day"
   ]
  },
  {
   "cell_type": "code",
   "execution_count": 49,
   "metadata": {
    "colab": {
     "base_uri": "https://localhost:8080/"
    },
    "id": "9-qEb4N0NWIl",
    "outputId": "bac8380c-5934-4e12-8e39-41ba322e35f0"
   },
   "outputs": [
    {
     "data": {
      "text/plain": [
       "604800"
      ]
     },
     "execution_count": 49,
     "metadata": {},
     "output_type": "execute_result"
    }
   ],
   "source": [
    "seconds_in_a_week = 7 * seconds_in_a_day\n",
    "seconds_in_a_week"
   ]
  },
  {
   "cell_type": "code",
   "execution_count": 50,
   "metadata": {
    "colab": {
     "base_uri": "https://localhost:8080/"
    },
    "id": "k575ydiANbDE",
    "outputId": "03ee2b8b-d3ae-46c7-dd98-05ddbc9353a4"
   },
   "outputs": [
    {
     "name": "stdout",
     "output_type": "stream",
     "text": [
      "x is 1.\n"
     ]
    }
   ],
   "source": [
    "x = 1\n",
    "if x == 1:\n",
    "    print(\"x is 1.\")"
   ]
  },
  {
   "cell_type": "code",
   "execution_count": 51,
   "metadata": {
    "colab": {
     "base_uri": "https://localhost:8080/"
    },
    "id": "ulAHN6iwNexk",
    "outputId": "15d9534a-a95a-47d2-fcdc-f460be81f3a8"
   },
   "outputs": [
    {
     "name": "stdout",
     "output_type": "stream",
     "text": [
      "2\n",
      "3.0\n",
      "Hello World!\n"
     ]
    }
   ],
   "source": [
    "y = 2\n",
    "print(y)\n",
    "z = 3.0\n",
    "print(z)\n",
    "string = \"Hello World!\"\n",
    "print(string)"
   ]
  },
  {
   "cell_type": "code",
   "execution_count": 52,
   "metadata": {
    "colab": {
     "base_uri": "https://localhost:8080/"
    },
    "id": "PqfW2dQyN_w2",
    "outputId": "01c413b0-9066-49a4-d316-a00bfe8a1b9d"
   },
   "outputs": [
    {
     "data": {
      "text/plain": [
       "int"
      ]
     },
     "execution_count": 52,
     "metadata": {},
     "output_type": "execute_result"
    }
   ],
   "source": [
    "type(y)"
   ]
  },
  {
   "cell_type": "code",
   "execution_count": 53,
   "metadata": {
    "colab": {
     "base_uri": "https://localhost:8080/"
    },
    "id": "uNG5J7Z1OTDk",
    "outputId": "48ca280b-d36d-4376-9063-cb7d0fe19fcc"
   },
   "outputs": [
    {
     "data": {
      "text/plain": [
       "float"
      ]
     },
     "execution_count": 53,
     "metadata": {},
     "output_type": "execute_result"
    }
   ],
   "source": [
    "type(z)"
   ]
  },
  {
   "cell_type": "code",
   "execution_count": 54,
   "metadata": {
    "colab": {
     "base_uri": "https://localhost:8080/"
    },
    "id": "Uj4vVi7eOWYl",
    "outputId": "b230c12c-68a6-43af-830a-ebd3e237e43c"
   },
   "outputs": [
    {
     "data": {
      "text/plain": [
       "str"
      ]
     },
     "execution_count": 54,
     "metadata": {},
     "output_type": "execute_result"
    }
   ],
   "source": [
    "type(string)"
   ]
  },
  {
   "cell_type": "markdown",
   "metadata": {
    "id": "3lgidZBmOIk7"
   },
   "source": [
    "###You can assign multiple variables to values in one line using the below technique"
   ]
  },
  {
   "cell_type": "code",
   "execution_count": 55,
   "metadata": {
    "colab": {
     "base_uri": "https://localhost:8080/"
    },
    "id": "CzY9tVeTONlD",
    "outputId": "8e920708-1594-4687-fad0-dbcecf06b834"
   },
   "outputs": [
    {
     "data": {
      "text/plain": [
       "10"
      ]
     },
     "execution_count": 55,
     "metadata": {},
     "output_type": "execute_result"
    }
   ],
   "source": [
    "a,b,c,d = 10,11.0,\"Hello World\",True\n",
    "a"
   ]
  },
  {
   "cell_type": "markdown",
   "metadata": {
    "id": "UhnNjnyKNob8"
   },
   "source": [
    "###We can use the %whos to know about the variables in memory"
   ]
  },
  {
   "cell_type": "code",
   "execution_count": 56,
   "metadata": {
    "colab": {
     "base_uri": "https://localhost:8080/"
    },
    "id": "7M79QR3lNnAk",
    "outputId": "2d425ff2-de71-4d9c-d867-4f58073612d8"
   },
   "outputs": [
    {
     "name": "stdout",
     "output_type": "stream",
     "text": [
      "Variable            Type     Data/Info\n",
      "--------------------------------------\n",
      "a                   int      10\n",
      "b                   float    11.0\n",
      "c                   str      Hello World\n",
      "d                   bool     True\n",
      "fruits              tuple    n=4\n",
      "fruitsTuple         tuple    n=5\n",
      "gradeList           list     n=7\n",
      "grades              set      {True, 36, 20, 'Orange', 25.5, 10}\n",
      "i                   tuple    n=2\n",
      "listOfFruits        list     n=5\n",
      "listOfGrades        set      {True, 36, 10, -17, 20, 25.5, 'Orange'}\n",
      "nums                list     n=8\n",
      "phoneDirectory      dict     n=3\n",
      "seconds_in_a_day    int      86400\n",
      "seconds_in_a_week   int      604800\n",
      "string              str      Hello World!\n",
      "x                   int      1\n",
      "y                   int      2\n",
      "z                   float    3.0\n"
     ]
    }
   ],
   "source": [
    "%whos"
   ]
  },
  {
   "cell_type": "markdown",
   "metadata": {
    "id": "TZNO-3elOo76"
   },
   "source": [
    "## Python Built-in data structures\n",
    "There are four collection data types in the Python programming language:\n",
    "\n",
    "\n",
    "*   **List** is a collection which is ordered and changeable. Allows duplicate members.\n",
    "*   **Tuple** is a collection which is ordered and unchangeable. Allows duplicate members.\n",
    "*   **Set** is a collection which is unordered and unindexed. No duplicate members.\n",
    "*   **Dictionary** is a collection which is unordered, changeable and indexed. No duplicate members."
   ]
  },
  {
   "cell_type": "markdown",
   "metadata": {},
   "source": [
    "# Lists"
   ]
  },
  {
   "cell_type": "code",
   "execution_count": 57,
   "metadata": {
    "id": "15nZfvuWOf3j"
   },
   "outputs": [
    {
     "name": "stdout",
     "output_type": "stream",
     "text": [
      "8\n"
     ]
    }
   ],
   "source": [
    "# lists\n",
    "\n",
    "nums = [1,2,-10,6,58,123,55,-70]\n",
    "\n",
    "print(len(nums)) #to get how many element in a list\n"
   ]
  },
  {
   "cell_type": "code",
   "execution_count": 58,
   "metadata": {},
   "outputs": [
    {
     "data": {
      "text/plain": [
       "[1, 2, -10, 6, 58, 123, 55, -70, 9]"
      ]
     },
     "execution_count": 58,
     "metadata": {},
     "output_type": "execute_result"
    }
   ],
   "source": [
    "nums.append(9) #to add element at the end of the list\n",
    "nums"
   ]
  },
  {
   "cell_type": "code",
   "execution_count": 59,
   "metadata": {},
   "outputs": [
    {
     "data": {
      "text/plain": [
       "[1, 2, -10, 6, 58, 6, 123, 55, -70, 9]"
      ]
     },
     "execution_count": 59,
     "metadata": {},
     "output_type": "execute_result"
    }
   ],
   "source": [
    "nums.insert(5,6) #adding number 6 in index number 5\n",
    "nums"
   ]
  },
  {
   "cell_type": "code",
   "execution_count": 60,
   "metadata": {},
   "outputs": [
    {
     "data": {
      "text/plain": [
       "[1, 2, -10, 6, 6, 123, 55, -70, 9]"
      ]
     },
     "execution_count": 60,
     "metadata": {},
     "output_type": "execute_result"
    }
   ],
   "source": [
    "nums.pop(4) #removing the element in the index number 4\n",
    "nums"
   ]
  },
  {
   "cell_type": "code",
   "execution_count": 61,
   "metadata": {},
   "outputs": [
    {
     "data": {
      "text/plain": [
       "[1, 2, 6, 6, 123, 55, -70, 9]"
      ]
     },
     "execution_count": 61,
     "metadata": {},
     "output_type": "execute_result"
    }
   ],
   "source": [
    "nums.remove(-10) #removing the element -10 specificly\n",
    "nums"
   ]
  },
  {
   "cell_type": "code",
   "execution_count": 62,
   "metadata": {},
   "outputs": [
    {
     "name": "stdout",
     "output_type": "stream",
     "text": [
      "1\n",
      "2\n",
      "6\n",
      "6\n",
      "123\n",
      "55\n",
      "-70\n",
      "9\n"
     ]
    }
   ],
   "source": [
    "#printing all elements in list\n",
    "#first way by using range function\n",
    "for i in range(len(nums)):\n",
    "    print(nums[i])"
   ]
  },
  {
   "cell_type": "code",
   "execution_count": 63,
   "metadata": {},
   "outputs": [
    {
     "name": "stdout",
     "output_type": "stream",
     "text": [
      "1\n",
      "2\n",
      "6\n",
      "6\n",
      "123\n",
      "55\n",
      "-70\n",
      "9\n"
     ]
    }
   ],
   "source": [
    "#second way by using in function\n",
    "for i in nums:\n",
    "    print(i)"
   ]
  },
  {
   "cell_type": "markdown",
   "metadata": {},
   "source": [
    "# Tuples"
   ]
  },
  {
   "cell_type": "code",
   "execution_count": 64,
   "metadata": {},
   "outputs": [
    {
     "name": "stdout",
     "output_type": "stream",
     "text": [
      "4\n"
     ]
    }
   ],
   "source": [
    "fruits = (\"Orange\",\"Apples\",\"Banana\",\"Kiwi\")\n",
    "\n",
    "print(len(fruits)) # to get how many elements in a tuple\n"
   ]
  },
  {
   "cell_type": "code",
   "execution_count": 65,
   "metadata": {},
   "outputs": [
    {
     "name": "stdout",
     "output_type": "stream",
     "text": [
      "Orange\n",
      "Apples\n",
      "Banana\n",
      "Kiwi\n"
     ]
    }
   ],
   "source": [
    "#printing all elements in tuples same as lists\n",
    "for i in range(len(fruits)):\n",
    "    print(fruits[i])"
   ]
  },
  {
   "cell_type": "code",
   "execution_count": 66,
   "metadata": {},
   "outputs": [
    {
     "name": "stdout",
     "output_type": "stream",
     "text": [
      "Orange\n",
      "Apples\n",
      "Banana\n",
      "Kiwi\n"
     ]
    }
   ],
   "source": [
    "for i in fruits:\n",
    "    print(i)"
   ]
  },
  {
   "cell_type": "code",
   "execution_count": 67,
   "metadata": {},
   "outputs": [
    {
     "data": {
      "text/plain": [
       "('Orange', 'Apples', 'Banana', 'Kiwi', 'cherry')"
      ]
     },
     "execution_count": 67,
     "metadata": {},
     "output_type": "execute_result"
    }
   ],
   "source": [
    "#tuples are unchangeable unless it turned into a list\n",
    "\n",
    "listOfFruits = list(fruits) #casting the tuple to a list\n",
    "\n",
    "listOfFruits.append(\"cherry\")\n",
    "\n",
    "fruitsTuple = tuple(listOfFruits) #casting the list to a tuple\n",
    "\n",
    "fruitsTuple"
   ]
  },
  {
   "cell_type": "markdown",
   "metadata": {},
   "source": [
    "# Sets"
   ]
  },
  {
   "cell_type": "code",
   "execution_count": 68,
   "metadata": {},
   "outputs": [
    {
     "name": "stdout",
     "output_type": "stream",
     "text": [
      "{True, 36, 10, -17, 20, 25.5, 'Orange'}\n"
     ]
    }
   ],
   "source": [
    "grades = {20,25.5,36,10,True,\"Orange\"}\n",
    "\n",
    "#sets are unordered. So, they have no index.\n",
    "#duplicates are not allowed.\n",
    "#sets are unchangeable unless it turned into a list.\n",
    "\n",
    "gradeList = list(grades)\n",
    "gradeList.append(-17)\n",
    "\n",
    "listOfGrades = set(gradeList)\n",
    "\n",
    "print(listOfGrades)"
   ]
  },
  {
   "cell_type": "code",
   "execution_count": 69,
   "metadata": {},
   "outputs": [
    {
     "name": "stdout",
     "output_type": "stream",
     "text": [
      "6\n"
     ]
    }
   ],
   "source": [
    "print(len(grades))"
   ]
  },
  {
   "cell_type": "code",
   "execution_count": 70,
   "metadata": {},
   "outputs": [
    {
     "name": "stdout",
     "output_type": "stream",
     "text": [
      "True   36   10   -17   20   25.5   Orange   "
     ]
    }
   ],
   "source": [
    "#printing all items in set\n",
    "for i in listOfGrades:\n",
    "    print(i , end = \"   \")"
   ]
  },
  {
   "cell_type": "markdown",
   "metadata": {},
   "source": [
    "# Dictionary"
   ]
  },
  {
   "cell_type": "code",
   "execution_count": 71,
   "metadata": {},
   "outputs": [
    {
     "data": {
      "text/plain": [
       "{'Ali': 24177777777, 'Ahmed': 258999999, 'Mohamed': 691111111}"
      ]
     },
     "execution_count": 71,
     "metadata": {},
     "output_type": "execute_result"
    }
   ],
   "source": [
    "#dictionaries are ordered and changeable.\n",
    "#dictionaries consists of keys and values\n",
    "#duplicates in keys are not allowed.\n",
    "\n",
    "phoneDirectory = {\"Ali\":24177777777,\n",
    "                  \"Ahmed\":258999999,\n",
    "                  \"Mohamed\":691111111}\n",
    "phoneDirectory"
   ]
  },
  {
   "cell_type": "code",
   "execution_count": 72,
   "metadata": {},
   "outputs": [
    {
     "name": "stdout",
     "output_type": "stream",
     "text": [
      "24177777777\n"
     ]
    }
   ],
   "source": [
    "print(phoneDirectory[\"Ali\"])"
   ]
  },
  {
   "cell_type": "code",
   "execution_count": 73,
   "metadata": {},
   "outputs": [
    {
     "name": "stdout",
     "output_type": "stream",
     "text": [
      "3\n"
     ]
    }
   ],
   "source": [
    "print(len(phoneDirectory))"
   ]
  },
  {
   "cell_type": "code",
   "execution_count": 74,
   "metadata": {},
   "outputs": [
    {
     "name": "stdout",
     "output_type": "stream",
     "text": [
      "24177777777\n",
      "258999999\n",
      "691111111\n"
     ]
    }
   ],
   "source": [
    "#printing all values in dictionary\n",
    "for i in phoneDirectory.values():\n",
    "    print(i)"
   ]
  },
  {
   "cell_type": "code",
   "execution_count": 75,
   "metadata": {},
   "outputs": [
    {
     "name": "stdout",
     "output_type": "stream",
     "text": [
      "('Ali', 24177777777)\n",
      "('Ahmed', 258999999)\n",
      "('Mohamed', 691111111)\n"
     ]
    }
   ],
   "source": [
    "#printing all items in dictionary\n",
    "for i in phoneDirectory.items():\n",
    "    print(i)"
   ]
  }
 ],
 "metadata": {
  "colab": {
   "provenance": []
  },
  "kernelspec": {
   "display_name": "Python 3 (ipykernel)",
   "language": "python",
   "name": "python3"
  },
  "language_info": {
   "codemirror_mode": {
    "name": "ipython",
    "version": 3
   },
   "file_extension": ".py",
   "mimetype": "text/x-python",
   "name": "python",
   "nbconvert_exporter": "python",
   "pygments_lexer": "ipython3",
   "version": "3.9.13"
  }
 },
 "nbformat": 4,
 "nbformat_minor": 1
}
